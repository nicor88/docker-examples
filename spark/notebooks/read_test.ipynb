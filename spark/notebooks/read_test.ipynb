{
 "cells": [
  {
   "cell_type": "code",
   "execution_count": 4,
   "metadata": {
    "collapsed": true
   },
   "outputs": [],
   "source": [
    "# parquet\n",
    "df = sqlContext.read.parquet('/data/nation.parquet')\n",
    "df.printSchema()"
   ]
  },
  {
   "cell_type": "code",
   "execution_count": 6,
   "metadata": {},
   "outputs": [
    {
     "name": "stdout",
     "output_type": "stream",
     "text": [
      "root\n",
      " |-- aw_week: string (nullable = true)\n",
      " |-- campaign_channel_name: string (nullable = true)\n",
      " |-- campaign_name: string (nullable = true)\n",
      " |-- clicks: long (nullable = true)\n",
      " |-- cost: double (nullable = true)\n",
      " |-- country_code3: string (nullable = true)\n",
      " |-- impressions: long (nullable = true)\n",
      " |-- income_net_eur: double (nullable = true)\n",
      " |-- sales0M: long (nullable = true)\n",
      " |-- sales10: long (nullable = true)\n",
      " |-- sales10C: long (nullable = true)\n",
      " |-- salesAll: long (nullable = true)\n",
      " |-- video_views: long (nullable = true)\n",
      "\n"
     ]
    }
   ],
   "source": [
    "# spark likes to have json in one line, without /n\n",
    "df_json = sqlContext.read.json('/data/matched_cost.json')\n",
    "df_json.printSchema()"
   ]
  },
  {
   "cell_type": "code",
   "execution_count": null,
   "metadata": {
    "collapsed": true
   },
   "outputs": [],
   "source": []
  }
 ],
 "metadata": {
  "kernelspec": {
   "display_name": "Python 3",
   "language": "python",
   "name": "python3"
  },
  "language_info": {
   "codemirror_mode": {
    "name": "ipython",
    "version": 3
   },
   "file_extension": ".py",
   "mimetype": "text/x-python",
   "name": "python",
   "nbconvert_exporter": "python",
   "pygments_lexer": "ipython3",
   "version": "3.5.2"
  }
 },
 "nbformat": 4,
 "nbformat_minor": 2
}
