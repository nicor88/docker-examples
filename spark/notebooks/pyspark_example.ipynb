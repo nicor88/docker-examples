{
 "cells": [
  {
   "cell_type": "code",
   "execution_count": 1,
   "metadata": {},
   "outputs": [],
   "source": [
    "from pyspark.sql.functions import desc\n",
    "from pyspark.sql.functions import countDistinct\n",
    "import pandas as pd\n",
    "import matplotlib.pyplot as plt\n",
    "%matplotlib inline"
   ]
  },
  {
   "cell_type": "code",
   "execution_count": 2,
   "metadata": {
    "collapsed": true
   },
   "outputs": [],
   "source": [
    "# get the data using: wget http://data.githubarchive.org/2016-11-1-{0..23}.json.gz\n",
    "df = sqlContext.read.json(\"/data/github-2016-10-11-11.json\")"
   ]
  },
  {
   "cell_type": "code",
   "execution_count": 6,
   "metadata": {
    "collapsed": true
   },
   "outputs": [],
   "source": [
    "df.registerTempTable('github')"
   ]
  },
  {
   "cell_type": "code",
   "execution_count": 7,
   "metadata": {},
   "outputs": [
    {
     "name": "stdout",
     "output_type": "stream",
     "text": [
      "+--------+---------+-----------+\n",
      "|database|tableName|isTemporary|\n",
      "+--------+---------+-----------+\n",
      "|        |   github|       true|\n",
      "+--------+---------+-----------+\n",
      "\n"
     ]
    }
   ],
   "source": [
    "sqlContext.sql('show tables').show()"
   ]
  },
  {
   "cell_type": "code",
   "execution_count": 9,
   "metadata": {},
   "outputs": [
    {
     "data": {
      "text/html": [
       "<div>\n",
       "<table border=\"1\" class=\"dataframe\">\n",
       "  <thead>\n",
       "    <tr style=\"text-align: right;\">\n",
       "      <th></th>\n",
       "      <th>count(DISTINCT repo.name AS `name`)</th>\n",
       "    </tr>\n",
       "  </thead>\n",
       "  <tbody>\n",
       "    <tr>\n",
       "      <th>0</th>\n",
       "      <td>19502</td>\n",
       "    </tr>\n",
       "  </tbody>\n",
       "</table>\n",
       "</div>"
      ],
      "text/plain": [
       "   count(DISTINCT repo.name AS `name`)\n",
       "0                                19502"
      ]
     },
     "execution_count": 9,
     "metadata": {},
     "output_type": "execute_result"
    }
   ],
   "source": [
    "sqlContext.sql('select count(distinct repo.name) from github').toPandas()"
   ]
  },
  {
   "cell_type": "code",
   "execution_count": 3,
   "metadata": {},
   "outputs": [
    {
     "data": {
      "text/plain": [
       "[Row(repos=19502)]"
      ]
     },
     "execution_count": 3,
     "metadata": {},
     "output_type": "execute_result"
    }
   ],
   "source": [
    "#total number of different repos\n",
    "repos_number = df.agg(countDistinct('repo.name').alias('repos'))\n",
    "repos_number.collect()"
   ]
  },
  {
   "cell_type": "code",
   "execution_count": 4,
   "metadata": {},
   "outputs": [
    {
     "name": "stdout",
     "output_type": "stream",
     "text": [
      "+--------------------+-----+\n",
      "|                name|count|\n",
      "+--------------------+-----+\n",
      "|      digimatic/ogre|  142|\n",
      "|everypolitician-s...|  112|\n",
      "|direwolf-github/m...|   87|\n",
      "|     enkidevs/commit|   74|\n",
      "|Homebrew/homebrew...|   63|\n",
      "|RegaliaEzz/androi...|   61|\n",
      "|gtpcs/gtpcs.githu...|   60|\n",
      "|jwasham/google-in...|   59|\n",
      "|jikker/lineage_mo...|   59|\n",
      "|emfoundation/ce10...|   56|\n",
      "+--------------------+-----+\n",
      "\n"
     ]
    }
   ],
   "source": [
    "#repos with most events\n",
    "repos_count = df.groupBy(\"repo.name\").count().orderBy(desc(\"count\"))\n",
    "repos_count.limit(10).show()"
   ]
  },
  {
   "cell_type": "code",
   "execution_count": 5,
   "metadata": {},
   "outputs": [
    {
     "name": "stdout",
     "output_type": "stream",
     "text": [
      "+--------------------+-----+\n",
      "|                name|count|\n",
      "+--------------------+-----+\n",
      "|CsharpNote/Medica...|   13|\n",
      "|CsharpNote/Numero...|    9|\n",
      "|jwasham/google-in...|    8|\n",
      "|  ioivanov/SDP-16-17|    6|\n",
      "|progedu/intro-cur...|    6|\n",
      "|vhf/free-programm...|    4|\n",
      "|googlecartographe...|    3|\n",
      "|urfu-2016/javascr...|    3|\n",
      "|DefinitelyTyped/D...|    3|\n",
      "|almasaeed2010/Adm...|    3|\n",
      "+--------------------+-----+\n",
      "\n"
     ]
    }
   ],
   "source": [
    "#repos with most forks\n",
    "repos_count_by_fork = df.filter(df.type == \"ForkEvent\").groupBy(\"repo.name\").count().orderBy(desc(\"count\"))\n",
    "repos_count_by_fork.limit(10).show()"
   ]
  }
 ],
 "metadata": {
  "kernelspec": {
   "display_name": "Python 3",
   "language": "python",
   "name": "python3"
  },
  "language_info": {
   "codemirror_mode": {
    "name": "ipython",
    "version": 3
   },
   "file_extension": ".py",
   "mimetype": "text/x-python",
   "name": "python",
   "nbconvert_exporter": "python",
   "pygments_lexer": "ipython3",
   "version": "3.5.2"
  }
 },
 "nbformat": 4,
 "nbformat_minor": 1
}
