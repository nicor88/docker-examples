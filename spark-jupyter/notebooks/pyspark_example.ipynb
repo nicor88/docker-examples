{
 "cells": [
  {
   "cell_type": "code",
   "execution_count": 1,
   "metadata": {
    "collapsed": false
   },
   "outputs": [
    {
     "name": "stderr",
     "output_type": "stream",
     "text": [
      "/opt/conda/lib/python3.5/site-packages/matplotlib/font_manager.py:273: UserWarning: Matplotlib is building the font cache using fc-list. This may take a moment.\n",
      "  warnings.warn('Matplotlib is building the font cache using fc-list. This may take a moment.')\n",
      "/opt/conda/lib/python3.5/site-packages/matplotlib/font_manager.py:273: UserWarning: Matplotlib is building the font cache using fc-list. This may take a moment.\n",
      "  warnings.warn('Matplotlib is building the font cache using fc-list. This may take a moment.')\n"
     ]
    }
   ],
   "source": [
    "import pyspark\n",
    "from pyspark.sql import SQLContext\n",
    "from pyspark.sql.functions import desc\n",
    "from pyspark.sql.functions import countDistinct\n",
    "import matplotlib.pyplot as plt\n",
    "%matplotlib inline\n",
    "\n",
    "sc = pyspark.SparkContext('local[*]')\n",
    "sqlContext = SQLContext(sc)"
   ]
  },
  {
   "cell_type": "code",
   "execution_count": 2,
   "metadata": {
    "collapsed": true
   },
   "outputs": [],
   "source": [
    "# get the data using: wget http://data.githubarchive.org/2016-11-1-{0..23}.json.gz\n",
    "df = sqlContext.read.json(\"/data/github-2016-10-11-11.json\")"
   ]
  },
  {
   "cell_type": "code",
   "execution_count": 3,
   "metadata": {
    "collapsed": false
   },
   "outputs": [
    {
     "data": {
      "text/plain": [
       "[Row(repos=19502)]"
      ]
     },
     "execution_count": 3,
     "metadata": {},
     "output_type": "execute_result"
    }
   ],
   "source": [
    "#total number of different repos\n",
    "repos_number = df.agg(countDistinct('repo.name').alias('repos'))\n",
    "repos_number.collect()"
   ]
  },
  {
   "cell_type": "code",
   "execution_count": 4,
   "metadata": {
    "collapsed": false
   },
   "outputs": [
    {
     "name": "stdout",
     "output_type": "stream",
     "text": [
      "+--------------------+-----+\n",
      "|                name|count|\n",
      "+--------------------+-----+\n",
      "|      digimatic/ogre|  142|\n",
      "|everypolitician-s...|  112|\n",
      "|direwolf-github/m...|   87|\n",
      "|     enkidevs/commit|   74|\n",
      "|Homebrew/homebrew...|   63|\n",
      "|RegaliaEzz/androi...|   61|\n",
      "|gtpcs/gtpcs.githu...|   60|\n",
      "|jikker/lineage_mo...|   59|\n",
      "|jwasham/google-in...|   59|\n",
      "|emfoundation/ce10...|   56|\n",
      "+--------------------+-----+\n",
      "\n"
     ]
    }
   ],
   "source": [
    "#repos with most events\n",
    "repos_count = df.groupBy(\"repo.name\").count().orderBy(desc(\"count\"))\n",
    "repos_count.limit(10).show()"
   ]
  },
  {
   "cell_type": "code",
   "execution_count": 5,
   "metadata": {
    "collapsed": false
   },
   "outputs": [
    {
     "name": "stdout",
     "output_type": "stream",
     "text": [
      "+--------------------+-----+\n",
      "|                name|count|\n",
      "+--------------------+-----+\n",
      "|CsharpNote/Medica...|   13|\n",
      "|CsharpNote/Numero...|    9|\n",
      "|jwasham/google-in...|    8|\n",
      "|progedu/intro-cur...|    6|\n",
      "|  ioivanov/SDP-16-17|    6|\n",
      "|vhf/free-programm...|    4|\n",
      "|spring-projects/s...|    3|\n",
      "|urfu-2016/demo-ta...|    3|\n",
      "|DefinitelyTyped/D...|    3|\n",
      "|googlecartographe...|    3|\n",
      "+--------------------+-----+\n",
      "\n"
     ]
    }
   ],
   "source": [
    "#repos with most forks\n",
    "repos_count_by_fork = df.filter(df.type == \"ForkEvent\").groupBy(\"repo.name\").count().orderBy(desc(\"count\"))\n",
    "repos_count_by_fork.limit(10).show()"
   ]
  }
 ],
 "metadata": {
  "kernelspec": {
   "display_name": "Python 3",
   "language": "python",
   "name": "python3"
  },
  "language_info": {
   "codemirror_mode": {
    "name": "ipython",
    "version": 3
   },
   "file_extension": ".py",
   "mimetype": "text/x-python",
   "name": "python",
   "nbconvert_exporter": "python",
   "pygments_lexer": "ipython3",
   "version": "3.5.2"
  }
 },
 "nbformat": 4,
 "nbformat_minor": 1
}
