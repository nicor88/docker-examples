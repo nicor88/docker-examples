{
 "cells": [
  {
   "cell_type": "code",
   "execution_count": 2,
   "metadata": {
    "collapsed": false
   },
   "outputs": [],
   "source": [
    "import \"fmt\""
   ]
  },
  {
   "cell_type": "code",
   "execution_count": 4,
   "metadata": {
    "collapsed": false
   },
   "outputs": [
    {
     "data": {
      "text/plain": [
       "hello world\n",
       "12\n",
       "<nil>\n",
       "Hello, 世界\n",
       "14\n",
       "<nil>\n"
      ]
     },
     "execution_count": 4,
     "metadata": {},
     "output_type": "execute_result"
    }
   ],
   "source": [
    "fmt.Println(\"hello world\")\n",
    "fmt.Println(\"Hello, 世界\")"
   ]
  },
  {
   "cell_type": "code",
   "execution_count": 6,
   "metadata": {
    "collapsed": false
   },
   "outputs": [
    {
     "ename": "Error",
     "evalue": "/tmp/668478181/func_proxy.go:4:11: expected ')', found 'EOF'\n",
     "output_type": "error",
     "traceback": [
      "/tmp/668478181/func_proxy.go:4:11: expected ')', found 'EOF'\n"
     ]
    }
   ],
   "source": [
    "const (\n",
    "    win            = 100 // The winning score in a game of Pig\n",
    "    gamesPerSeries = 10  // The number of games per series to simulate\n",
    ")\n"
   ]
  },
  {
   "cell_type": "code",
   "execution_count": null,
   "metadata": {
    "collapsed": true
   },
   "outputs": [],
   "source": []
  }
 ],
 "metadata": {
  "kernelspec": {
   "display_name": "Go",
   "language": "go",
   "name": "gophernotes"
  },
  "language_info": {
   "name": "go"
  }
 },
 "nbformat": 4,
 "nbformat_minor": 1
}
